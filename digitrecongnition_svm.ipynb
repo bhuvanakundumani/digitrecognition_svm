{
  "nbformat": 4,
  "nbformat_minor": 0,
  "metadata": {
    "colab": {
      "name": "digitrecongnition_svm.ipynb",
      "version": "0.3.2",
      "provenance": [],
      "collapsed_sections": []
    },
    "kernelspec": {
      "name": "python3",
      "display_name": "Python 3"
    },
    "accelerator": "GPU"
  },
  "cells": [
    {
      "metadata": {
        "id": "W4WvDkDFx61g",
        "colab_type": "text"
      },
      "cell_type": "markdown",
      "source": [
        "This is the working code in Colab for http://hanzratech.in/2015/02/24/handwritten-digit-recognition-using-opencv-sklearn-and-python.html"
      ]
    },
    {
      "metadata": {
        "id": "l8jFAJf0yong",
        "colab_type": "text"
      },
      "cell_type": "markdown",
      "source": [
        "# Import the modules\n",
        "\n",
        "> Indented block\n",
        "\n",
        "\n"
      ]
    },
    {
      "metadata": {
        "id": "fgtYL41jevFK",
        "colab_type": "code",
        "colab": {}
      },
      "cell_type": "code",
      "source": [
        "from sklearn.externals import joblib\n",
        "from sklearn import datasets\n",
        "from skimage.feature import hog\n",
        "from sklearn.svm import LinearSVC\n",
        "import numpy as np\n",
        "from collections import Counter\n",
        "import cv2\n",
        "from sklearn.externals import joblib\n",
        "from skimage.feature import hog\n",
        "\n"
      ],
      "execution_count": 0,
      "outputs": []
    },
    {
      "metadata": {
        "id": "qyvyaGaYx6J4",
        "colab_type": "text"
      },
      "cell_type": "markdown",
      "source": [
        "#Load the dataset\n"
      ]
    },
    {
      "metadata": {
        "id": "4UObbheDewhb",
        "colab_type": "code",
        "colab": {}
      },
      "cell_type": "code",
      "source": [
        "dataset = datasets.fetch_mldata(\"MNIST Original\")\n"
      ],
      "execution_count": 0,
      "outputs": []
    },
    {
      "metadata": {
        "id": "3_xVKMprza2x",
        "colab_type": "text"
      },
      "cell_type": "markdown",
      "source": [
        "# Extract the features and labels\n"
      ]
    },
    {
      "metadata": {
        "id": "MZOCB9Vtey8o",
        "colab_type": "code",
        "colab": {}
      },
      "cell_type": "code",
      "source": [
        "# Extract the features and labels\n",
        "features = np.array(dataset.data, 'int16') \n",
        "labels = np.array(dataset.target, 'int')\n"
      ],
      "execution_count": 0,
      "outputs": []
    },
    {
      "metadata": {
        "id": "poZmRwzMzc0D",
        "colab_type": "text"
      },
      "cell_type": "markdown",
      "source": [
        "# Extract the hog features\n"
      ]
    },
    {
      "metadata": {
        "id": "QVy7d-8pe2Yf",
        "colab_type": "code",
        "outputId": "ed0c478d-d568-44b8-a274-2b3f91c33403",
        "colab": {
          "base_uri": "https://localhost:8080/",
          "height": 88
        }
      },
      "cell_type": "code",
      "source": [
        "list_hog_fd = []\n",
        "for feature in features:\n",
        "    fd = hog(feature.reshape((28, 28)), orientations=9, pixels_per_cell=(14, 14), cells_per_block=(1, 1), visualise=False)\n",
        "    list_hog_fd.append(fd)\n",
        "hog_features = np.array(list_hog_fd, 'float64')\n",
        "\n",
        "print (\"Count of digits in dataset\", Counter(labels))\n"
      ],
      "execution_count": 33,
      "outputs": [
        {
          "output_type": "stream",
          "text": [
            "/usr/local/lib/python3.6/dist-packages/skimage/feature/_hog.py:119: skimage_deprecation: Default value of `block_norm`==`L1` is deprecated and will be changed to `L2-Hys` in v0.15\n",
            "  'be changed to `L2-Hys` in v0.15', skimage_deprecation)\n"
          ],
          "name": "stderr"
        },
        {
          "output_type": "stream",
          "text": [
            "Count of digits in dataset Counter({1: 7877, 7: 7293, 3: 7141, 2: 6990, 9: 6958, 0: 6903, 6: 6876, 8: 6825, 4: 6824, 5: 6313})\n"
          ],
          "name": "stdout"
        }
      ]
    },
    {
      "metadata": {
        "id": "gnruhB-kzjUQ",
        "colab_type": "text"
      },
      "cell_type": "markdown",
      "source": [
        "# **# Create an linear SVM object**"
      ]
    },
    {
      "metadata": {
        "id": "VgahGmate2iX",
        "colab_type": "code",
        "colab": {}
      },
      "cell_type": "code",
      "source": [
        "\n",
        "clf = LinearSVC()"
      ],
      "execution_count": 0,
      "outputs": []
    },
    {
      "metadata": {
        "id": "NLloVZgkz1EX",
        "colab_type": "text"
      },
      "cell_type": "markdown",
      "source": [
        "# Perform the training\n"
      ]
    },
    {
      "metadata": {
        "id": "p_wjYxs-e2pH",
        "colab_type": "code",
        "outputId": "30a171fa-26e0-4ec9-9a4e-a14503eb019f",
        "colab": {
          "base_uri": "https://localhost:8080/",
          "height": 85
        }
      },
      "cell_type": "code",
      "source": [
        "clf.fit(hog_features, labels)\n"
      ],
      "execution_count": 35,
      "outputs": [
        {
          "output_type": "execute_result",
          "data": {
            "text/plain": [
              "LinearSVC(C=1.0, class_weight=None, dual=True, fit_intercept=True,\n",
              "     intercept_scaling=1, loss='squared_hinge', max_iter=1000,\n",
              "     multi_class='ovr', penalty='l2', random_state=None, tol=0.0001,\n",
              "     verbose=0)"
            ]
          },
          "metadata": {
            "tags": []
          },
          "execution_count": 35
        }
      ]
    },
    {
      "metadata": {
        "id": "DYqmACr_0BnA",
        "colab_type": "text"
      },
      "cell_type": "markdown",
      "source": [
        "# **Save the classifier**"
      ]
    },
    {
      "metadata": {
        "id": "QfIjr9hpe2sC",
        "colab_type": "code",
        "outputId": "4b57c8c5-d26e-49b4-b986-ea2b24b00f41",
        "colab": {
          "base_uri": "https://localhost:8080/",
          "height": 34
        }
      },
      "cell_type": "code",
      "source": [
        "joblib.dump(clf, \"digits_cls.pkl\", compress=3)"
      ],
      "execution_count": 36,
      "outputs": [
        {
          "output_type": "execute_result",
          "data": {
            "text/plain": [
              "['digits_cls.pkl']"
            ]
          },
          "metadata": {
            "tags": []
          },
          "execution_count": 36
        }
      ]
    },
    {
      "metadata": {
        "id": "TJ4u5qnv0Tug",
        "colab_type": "text"
      },
      "cell_type": "markdown",
      "source": [
        "# Load the **Classifier**"
      ]
    },
    {
      "metadata": {
        "id": "9sjTSG1Jfsku",
        "colab_type": "code",
        "colab": {}
      },
      "cell_type": "code",
      "source": [
        "clf = joblib.load(\"digits_cls.pkl\")\n"
      ],
      "execution_count": 0,
      "outputs": []
    },
    {
      "metadata": {
        "id": "OPHxgTTm0cUB",
        "colab_type": "text"
      },
      "cell_type": "markdown",
      "source": [
        "# Mount Google **Drive**"
      ]
    },
    {
      "metadata": {
        "id": "XdqPKjwLqp7D",
        "colab_type": "code",
        "colab": {
          "base_uri": "https://localhost:8080/",
          "height": 54
        },
        "outputId": "e4c6e2c9-6a5c-4253-8008-2da7fcf7172e"
      },
      "cell_type": "code",
      "source": [
        "from google.colab import drive\n",
        "drive.mount('/content/drive/')"
      ],
      "execution_count": 38,
      "outputs": [
        {
          "output_type": "stream",
          "text": [
            "Drive already mounted at /content/drive/; to attempt to forcibly remount, call drive.mount(\"/content/drive/\", force_remount=True).\n"
          ],
          "name": "stdout"
        }
      ]
    },
    {
      "metadata": {
        "id": "BVETnpFQ0bNm",
        "colab_type": "text"
      },
      "cell_type": "markdown",
      "source": [
        "# Read the input image \n"
      ]
    },
    {
      "metadata": {
        "id": "ECPgrrXJtX-v",
        "colab_type": "code",
        "colab": {
          "base_uri": "https://localhost:8080/",
          "height": 34
        },
        "outputId": "663d9fb6-512d-44b4-c7f3-db237ad14fbd"
      },
      "cell_type": "code",
      "source": [
        "filename = \"/content/drive/My Drive/FastaiData/photo_2.jpg\"\n",
        "im = cv2.imread(filename)\n",
        "# To check if the image has loaded properly.I am writing the image loaded to hah.jpg in the content folder- working directory.\n",
        "cv2.imwrite('hah.jpg',im)\n"
      ],
      "execution_count": 39,
      "outputs": [
        {
          "output_type": "execute_result",
          "data": {
            "text/plain": [
              "True"
            ]
          },
          "metadata": {
            "tags": []
          },
          "execution_count": 39
        }
      ]
    },
    {
      "metadata": {
        "id": "JT5rf7sn0mmu",
        "colab_type": "text"
      },
      "cell_type": "markdown",
      "source": [
        "# Convert to grayscale and apply Gaussian filtering\n"
      ]
    },
    {
      "metadata": {
        "id": "QfgJszCyf1Hk",
        "colab_type": "code",
        "colab": {
          "base_uri": "https://localhost:8080/",
          "height": 34
        },
        "outputId": "bbda09b0-5d6c-4c58-8909-429150f4dae4"
      },
      "cell_type": "code",
      "source": [
        "im_gray = cv2.cvtColor(im, cv2.COLOR_BGR2GRAY)\n",
        "im_gray = cv2.GaussianBlur(im_gray, (5, 5), 0)\n",
        "im.shape\n",
        "\n"
      ],
      "execution_count": 40,
      "outputs": [
        {
          "output_type": "execute_result",
          "data": {
            "text/plain": [
              "(681, 557, 3)"
            ]
          },
          "metadata": {
            "tags": []
          },
          "execution_count": 40
        }
      ]
    },
    {
      "metadata": {
        "id": "HnGZT_Ou0skM",
        "colab_type": "text"
      },
      "cell_type": "markdown",
      "source": [
        "# Threshold the image\n"
      ]
    },
    {
      "metadata": {
        "id": "2hAObbchf6fc",
        "colab_type": "code",
        "colab": {}
      },
      "cell_type": "code",
      "source": [
        "ret, im_th = cv2.threshold(im_gray, 90, 255, cv2.THRESH_BINARY_INV)"
      ],
      "execution_count": 0,
      "outputs": []
    },
    {
      "metadata": {
        "id": "Le9g_b7s0xfU",
        "colab_type": "text"
      },
      "cell_type": "markdown",
      "source": [
        "# Find contours in the image\n"
      ]
    },
    {
      "metadata": {
        "id": "fhrMnNbryHAU",
        "colab_type": "text"
      },
      "cell_type": "markdown",
      "source": [
        "Change done to ctrs, hier = cv2.findContours(im_th.copy(), cv2.RETR_EXTERNAL, cv2.CHAIN_APPROX_SIMPLE)\n",
        "\n",
        "as we are using OpenCV 4.0 \n",
        "\n",
        "Changed code is \n",
        "\n",
        "_,ctrs, hier = cv2.findContours(im_th.copy(), cv2.RETR_EXTERNAL, cv2.CHAIN_APPROX_SIMPLE)\n"
      ]
    },
    {
      "metadata": {
        "id": "QvBE5OnOgNm_",
        "colab_type": "code",
        "colab": {}
      },
      "cell_type": "code",
      "source": [
        "_,ctrs, hier = cv2.findContours(im_th.copy(), cv2.RETR_EXTERNAL, cv2.CHAIN_APPROX_SIMPLE)\n"
      ],
      "execution_count": 0,
      "outputs": []
    },
    {
      "metadata": {
        "id": "d0kHFVFr02RV",
        "colab_type": "text"
      },
      "cell_type": "markdown",
      "source": [
        "# Get rectangles contains each contour\n"
      ]
    },
    {
      "metadata": {
        "id": "2AReh_tmg70R",
        "colab_type": "code",
        "outputId": "2b3f424e-093b-41f6-be14-27fb51845762",
        "colab": {
          "base_uri": "https://localhost:8080/",
          "height": 34
        }
      },
      "cell_type": "code",
      "source": [
        "rects = [cv2.boundingRect(ctr) for ctr in ctrs]\n",
        "print(len(rects))\n",
        "\n",
        "    \n",
        "    "
      ],
      "execution_count": 43,
      "outputs": [
        {
          "output_type": "stream",
          "text": [
            "24\n"
          ],
          "name": "stdout"
        }
      ]
    },
    {
      "metadata": {
        "id": "CVuveYQu08JK",
        "colab_type": "text"
      },
      "cell_type": "markdown",
      "source": [
        "# For each rectangular region, calculate HOG features and predict\n",
        "# the digit using Linear SVM."
      ]
    },
    {
      "metadata": {
        "id": "-RGBryuxg_QH",
        "colab_type": "code",
        "colab": {
          "base_uri": "https://localhost:8080/",
          "height": 2927
        },
        "outputId": "08746854-be56-405c-e3a2-f7f8ecdfbb58"
      },
      "cell_type": "code",
      "source": [
        "for rect in rects:\n",
        "    # Draw the rectangles\n",
        "    cv2.rectangle(im, (rect[0], rect[1]), (rect[0] + rect[2], rect[1] + rect[3]), (0, 255, 0), 3) \n",
        "    # Make the rectangular region around the digit\n",
        "    leng = int(rect[3] * 1.6)\n",
        "    pt1 = int(rect[1] + rect[3] // 2 - leng // 2)\n",
        "    pt2 = int(rect[0] + rect[2] // 2 - leng // 2)\n",
        "    roi = im_th[pt1:pt1+leng, pt2:pt2+leng]\n",
        "    print(roi)\n",
        "    \n",
        "    # Resize the image\n",
        "    roi = cv2.resize(roi, (28, 28), interpolation=cv2.INTER_AREA)\n",
        "    roi = cv2.dilate(roi, (3, 3))\n",
        "    # Calculate the HOG features\n",
        "    roi_hog_fd = hog(roi, orientations=9, pixels_per_cell=(14, 14), cells_per_block=(1, 1), visualise=False)\n",
        "    nbr = clf.predict(np.array([roi_hog_fd], 'float64'))\n",
        "    cv2.putText(im, str(int(nbr[0])), (rect[0], rect[1]),cv2.FONT_HERSHEY_DUPLEX, 2, (0, 255, 255), 3)\n"
      ],
      "execution_count": 44,
      "outputs": [
        {
          "output_type": "stream",
          "text": [
            "[[0 0 0 ... 0 0 0]\n",
            " [0 0 0 ... 0 0 0]\n",
            " [0 0 0 ... 0 0 0]\n",
            " ...\n",
            " [0 0 0 ... 0 0 0]\n",
            " [0 0 0 ... 0 0 0]\n",
            " [0 0 0 ... 0 0 0]]\n",
            "[[0 0 0 ... 0 0 0]\n",
            " [0 0 0 ... 0 0 0]\n",
            " [0 0 0 ... 0 0 0]\n",
            " ...\n",
            " [0 0 0 ... 0 0 0]\n",
            " [0 0 0 ... 0 0 0]\n",
            " [0 0 0 ... 0 0 0]]\n",
            "[[0 0 0 ... 0 0 0]\n",
            " [0 0 0 ... 0 0 0]\n",
            " [0 0 0 ... 0 0 0]\n",
            " ...\n",
            " [0 0 0 ... 0 0 0]\n",
            " [0 0 0 ... 0 0 0]\n",
            " [0 0 0 ... 0 0 0]]\n",
            "[[0 0 0 ... 0 0 0]\n",
            " [0 0 0 ... 0 0 0]\n",
            " [0 0 0 ... 0 0 0]\n",
            " ...\n",
            " [0 0 0 ... 0 0 0]\n",
            " [0 0 0 ... 0 0 0]\n",
            " [0 0 0 ... 0 0 0]]\n",
            "[[0 0 0 ... 0 0 0]\n",
            " [0 0 0 ... 0 0 0]\n",
            " [0 0 0 ... 0 0 0]\n",
            " ...\n",
            " [0 0 0 ... 0 0 0]\n",
            " [0 0 0 ... 0 0 0]\n",
            " [0 0 0 ... 0 0 0]]\n",
            "[[0 0 0 ... 0 0 0]\n",
            " [0 0 0 ... 0 0 0]\n",
            " [0 0 0 ... 0 0 0]\n",
            " ...\n",
            " [0 0 0 ... 0 0 0]\n",
            " [0 0 0 ... 0 0 0]\n",
            " [0 0 0 ... 0 0 0]]\n",
            "[[0 0 0 ... 0 0 0]\n",
            " [0 0 0 ... 0 0 0]\n",
            " [0 0 0 ... 0 0 0]\n",
            " ...\n",
            " [0 0 0 ... 0 0 0]\n",
            " [0 0 0 ... 0 0 0]\n",
            " [0 0 0 ... 0 0 0]]\n",
            "[[0 0 0 ... 0 0 0]\n",
            " [0 0 0 ... 0 0 0]\n",
            " [0 0 0 ... 0 0 0]\n",
            " ...\n",
            " [0 0 0 ... 0 0 0]\n",
            " [0 0 0 ... 0 0 0]\n",
            " [0 0 0 ... 0 0 0]]\n",
            "[[0 0 0 ... 0 0 0]\n",
            " [0 0 0 ... 0 0 0]\n",
            " [0 0 0 ... 0 0 0]\n",
            " ...\n",
            " [0 0 0 ... 0 0 0]\n",
            " [0 0 0 ... 0 0 0]\n",
            " [0 0 0 ... 0 0 0]]\n",
            "[[0 0 0 ... 0 0 0]\n",
            " [0 0 0 ... 0 0 0]\n",
            " [0 0 0 ... 0 0 0]\n",
            " ...\n",
            " [0 0 0 ... 0 0 0]\n",
            " [0 0 0 ... 0 0 0]\n",
            " [0 0 0 ... 0 0 0]]\n",
            "[[0 0 0 ... 0 0 0]\n",
            " [0 0 0 ... 0 0 0]\n",
            " [0 0 0 ... 0 0 0]\n",
            " ...\n",
            " [0 0 0 ... 0 0 0]\n",
            " [0 0 0 ... 0 0 0]\n",
            " [0 0 0 ... 0 0 0]]\n",
            "[[0 0 0 ... 0 0 0]\n",
            " [0 0 0 ... 0 0 0]\n",
            " [0 0 0 ... 0 0 0]\n",
            " ...\n",
            " [0 0 0 ... 0 0 0]\n",
            " [0 0 0 ... 0 0 0]\n",
            " [0 0 0 ... 0 0 0]]\n",
            "[[0 0 0 ... 0 0 0]\n",
            " [0 0 0 ... 0 0 0]\n",
            " [0 0 0 ... 0 0 0]\n",
            " ...\n",
            " [0 0 0 ... 0 0 0]\n",
            " [0 0 0 ... 0 0 0]\n",
            " [0 0 0 ... 0 0 0]]\n",
            "[[0 0 0 ... 0 0 0]\n",
            " [0 0 0 ... 0 0 0]\n",
            " [0 0 0 ... 0 0 0]\n",
            " ...\n",
            " [0 0 0 ... 0 0 0]\n",
            " [0 0 0 ... 0 0 0]\n",
            " [0 0 0 ... 0 0 0]]\n",
            "[[0 0 0 ... 0 0 0]\n",
            " [0 0 0 ... 0 0 0]\n",
            " [0 0 0 ... 0 0 0]\n",
            " ...\n",
            " [0 0 0 ... 0 0 0]\n",
            " [0 0 0 ... 0 0 0]\n",
            " [0 0 0 ... 0 0 0]]\n",
            "[[0 0 0 ... 0 0 0]\n",
            " [0 0 0 ... 0 0 0]\n",
            " [0 0 0 ... 0 0 0]\n",
            " ...\n",
            " [0 0 0 ... 0 0 0]\n",
            " [0 0 0 ... 0 0 0]\n",
            " [0 0 0 ... 0 0 0]]\n",
            "[[0 0 0 ... 0 0 0]\n",
            " [0 0 0 ... 0 0 0]\n",
            " [0 0 0 ... 0 0 0]\n",
            " ...\n",
            " [0 0 0 ... 0 0 0]\n",
            " [0 0 0 ... 0 0 0]\n",
            " [0 0 0 ... 0 0 0]]\n",
            "[[0 0 0 ... 0 0 0]\n",
            " [0 0 0 ... 0 0 0]\n",
            " [0 0 0 ... 0 0 0]\n",
            " ...\n",
            " [0 0 0 ... 0 0 0]\n",
            " [0 0 0 ... 0 0 0]\n",
            " [0 0 0 ... 0 0 0]]\n",
            "[[0 0 0 ... 0 0 0]\n",
            " [0 0 0 ... 0 0 0]\n",
            " [0 0 0 ... 0 0 0]\n",
            " ...\n",
            " [0 0 0 ... 0 0 0]\n",
            " [0 0 0 ... 0 0 0]\n",
            " [0 0 0 ... 0 0 0]]\n",
            "[[0 0 0 ... 0 0 0]\n",
            " [0 0 0 ... 0 0 0]\n",
            " [0 0 0 ... 0 0 0]\n",
            " ...\n",
            " [0 0 0 ... 0 0 0]\n",
            " [0 0 0 ... 0 0 0]\n",
            " [0 0 0 ... 0 0 0]]\n",
            "[[0 0 0 ... 0 0 0]\n",
            " [0 0 0 ... 0 0 0]\n",
            " [0 0 0 ... 0 0 0]\n",
            " ...\n",
            " [0 0 0 ... 0 0 0]\n",
            " [0 0 0 ... 0 0 0]\n",
            " [0 0 0 ... 0 0 0]]\n",
            "[[0 0 0 ... 0 0 0]\n",
            " [0 0 0 ... 0 0 0]\n",
            " [0 0 0 ... 0 0 0]\n",
            " ...\n",
            " [0 0 0 ... 0 0 0]\n",
            " [0 0 0 ... 0 0 0]\n",
            " [0 0 0 ... 0 0 0]]\n",
            "[[0 0 0 ... 0 0 0]\n",
            " [0 0 0 ... 0 0 0]\n",
            " [0 0 0 ... 0 0 0]\n",
            " ...\n",
            " [0 0 0 ... 0 0 0]\n",
            " [0 0 0 ... 0 0 0]\n",
            " [0 0 0 ... 0 0 0]]\n",
            "[[0 0 0 ... 0 0 0]\n",
            " [0 0 0 ... 0 0 0]\n",
            " [0 0 0 ... 0 0 0]\n",
            " ...\n",
            " [0 0 0 ... 0 0 0]\n",
            " [0 0 0 ... 0 0 0]\n",
            " [0 0 0 ... 0 0 0]]\n"
          ],
          "name": "stdout"
        },
        {
          "output_type": "stream",
          "text": [
            "/usr/local/lib/python3.6/dist-packages/skimage/feature/_hog.py:119: skimage_deprecation: Default value of `block_norm`==`L1` is deprecated and will be changed to `L2-Hys` in v0.15\n",
            "  'be changed to `L2-Hys` in v0.15', skimage_deprecation)\n"
          ],
          "name": "stderr"
        }
      ]
    },
    {
      "metadata": {
        "id": "KFk3Dbei1A0B",
        "colab_type": "text"
      },
      "cell_type": "markdown",
      "source": [
        "# **Write the final image after prediction to final2.jpg using cv2.write function\n"
      ]
    },
    {
      "metadata": {
        "id": "0dI4yTeZqfg1",
        "colab_type": "code",
        "colab": {
          "base_uri": "https://localhost:8080/",
          "height": 34
        },
        "outputId": "3814fe46-0c33-4121-af89-89634aea13cd"
      },
      "cell_type": "code",
      "source": [
        "cv2.imwrite(\"final2.jpg\", im)\n",
        "cv2.waitKey()"
      ],
      "execution_count": 45,
      "outputs": [
        {
          "output_type": "execute_result",
          "data": {
            "text/plain": [
              "-1"
            ]
          },
          "metadata": {
            "tags": []
          },
          "execution_count": 45
        }
      ]
    },
    {
      "metadata": {
        "id": "XVfGjuJOxDXA",
        "colab_type": "code",
        "colab": {}
      },
      "cell_type": "code",
      "source": [
        ""
      ],
      "execution_count": 0,
      "outputs": []
    }
  ]
}